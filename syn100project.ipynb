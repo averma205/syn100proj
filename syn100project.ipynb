{
 "cells": [
  {
   "cell_type": "code",
   "execution_count": 58,
   "id": "73a69e33-0bb2-4993-9d13-33b334474a23",
   "metadata": {},
   "outputs": [
    {
     "name": "stderr",
     "output_type": "stream",
     "text": [
      "C:\\Users\\aryav\\AppData\\Local\\Temp\\ipykernel_16328\\2724598090.py:12: DtypeWarning: Columns (13,37,38) have mixed types. Specify dtype option on import or set low_memory=False.\n",
      "  fires = pd.read_csv(\"wildfires.csv\").drop([\"_id\", \"OBJECTID\", \"APN (parcel)\", \"x\", \"y\"], axis=1).query(\"County == 'San Diego'\")\n",
      "C:\\Users\\aryav\\AppData\\Local\\Temp\\ipykernel_16328\\2724598090.py:13: UserWarning: Could not infer format, so each element will be parsed individually, falling back to `dateutil`. To ensure parsing is consistent and as-expected, please specify a format.\n",
      "  fires[\"Incident Start Date\"] = pd.to_datetime(fires[\"Incident Start Date\"])\n"
     ]
    }
   ],
   "source": [
    "import pandas as pd\n",
    "import numpy as np\n",
    "import matplotlib.pyplot as plt\n",
    "import geopandas as gpd\n",
    "from sklearn.linear_model import LinearRegression\n",
    "from sklearn.preprocessing import OneHotEncoder\n",
    "from sklearn.pipeline import Pipeline\n",
    "from sklearn.compose import ColumnTransformer\n",
    "from sklearn.ensemble import RandomForestClassifier\n",
    "from sklearn.model_selection import train_test_split\n",
    "\n",
    "fires = pd.read_csv(\"wildfires.csv\").drop([\"_id\", \"OBJECTID\", \"APN (parcel)\", \"x\", \"y\"], axis=1).query(\"County == 'San Diego'\")\n",
    "fires[\"Incident Start Date\"] = pd.to_datetime(fires[\"Incident Start Date\"])\n",
    "fires[\"Month\"] = fires[\"Incident Start Date\"].dt.month\n",
    "fires[\"* City\"] = fires[\"* City\"].fillna(\"Non-city\")\n",
    "\n",
    "cat_cols = [\"* Street Type (e.g. road, drive, lane, etc.)\", \"* City\", \"County\", \"* Structure Type\", \"Structure Category\", \"* Roof Construction\", \"* Eaves\", \"* Vent Screen\", \"* Exterior Siding\", \"* Window Pane\", \"* Deck/Porch On Grade\", \"* Deck/Porch Elevated\", \"* Patio Cover/Carport Attached to Structure\", \"* Fence Attached to Structure\"]\n",
    "num_cols = [\"Year Built (parcel)\", \"Latitude\", \"Longitude\", \"Month\"]\n",
    "\n",
    "preproc = ColumnTransformer(\n",
    "    transformers = [\n",
    "        (\"categorical\", OneHotEncoder(drop='first', handle_unknown='ignore'), cat_cols),\n",
    "        (\"numerical\", \"passthrough\", num_cols)\n",
    "    ],\n",
    "    remainder=\"drop\"\n",
    ")\n",
    "preproc.fit_transform(fires)\n",
    "\n",
    "data = fires[cat_cols + num_cols + [\"* Damage\"]].dropna()\n",
    "X_train, X_test, y_train, y_test = (\n",
    "    train_test_split(data[cat_cols + num_cols], data[\"* Damage\"], test_size=0.25, random_state=1)\n",
    ")\n",
    "processing = Pipeline([(\"preproc\", preproc), (\"tree\", RandomForestClassifier())])\n",
    "processing.fit(X_train, y_train)\n",
    "tree_score = processing.score(X_test, y_test) # 0.8832116788321168"
   ]
  }
 ],
 "metadata": {
  "kernelspec": {
   "display_name": "Python 3 (ipykernel)",
   "language": "python",
   "name": "python3"
  },
  "language_info": {
   "codemirror_mode": {
    "name": "ipython",
    "version": 3
   },
   "file_extension": ".py",
   "mimetype": "text/x-python",
   "name": "python",
   "nbconvert_exporter": "python",
   "pygments_lexer": "ipython3",
   "version": "3.12.1"
  }
 },
 "nbformat": 4,
 "nbformat_minor": 5
}
